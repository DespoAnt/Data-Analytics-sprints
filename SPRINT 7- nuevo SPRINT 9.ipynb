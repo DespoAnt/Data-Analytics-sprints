{
 "cells": [
  {
   "cell_type": "markdown",
   "id": "4efab24b",
   "metadata": {},
   "source": [
    "## Nivell 1"
   ]
  },
  {
   "cell_type": "markdown",
   "id": "1df8084b",
   "metadata": {},
   "source": [
    "### 1. Calculadora de l'índex de massa corporal\n",
    "Escriu una funció que calculi l'IMC ingressat per l'usuari/ària, és a dir, qui ho executi haurà d'ingressar aquestes dades. \n",
    "La funció ha de classificar el resultat en les seves respectives categories.\n",
    "Consell: Intenta validar les dades prèviament, perquè enviï un missatge d’advertència si les dades introduïdes per l’usuari/a no estan en el format adequat o no pren valors raonables\n"
   ]
  },
  {
   "cell_type": "code",
   "execution_count": 10,
   "id": "718e8fa9",
   "metadata": {},
   "outputs": [
    {
     "name": "stdout",
     "output_type": "stream",
     "text": [
      "Los datos que has introducido son: \n",
      "Peso: 67.1 kg\n",
      "Altura: 1.65 m\n",
      "\n",
      "Tu IMC y la correspondiente clasificación son los siguientes:\n"
     ]
    },
    {
     "data": {
      "text/plain": [
       "{'IMC': 24.65, 'Categoría': {'peso normal'}}"
      ]
     },
     "execution_count": 10,
     "metadata": {},
     "output_type": "execute_result"
    }
   ],
   "source": [
    "def solicitar_datos():\n",
    "\n",
    "    # solicitar los datos de peso y altura del usuario para el calculo del IMC y validar las respuestas introducidas\n",
    "\n",
    "    while True:                                         #validar que los valores introducidos sean correctos e indicando condiciones como máximo y mínimo de valor\n",
    "        peso = input(\"Introduce tu peso en kilos:\")    \n",
    "        try:\n",
    "            peso = float(peso.replace(\",\", \".\"))        #cambiar el input a numero decimal y reemplaza los comas por puntos\n",
    "              \n",
    "            if peso <= 0 or peso >= 700:\n",
    "                print(f\"Has introducido {peso}. Por favor, introduce tu peso correcto con valores mayores de 0 y hasta 700\")\n",
    "            else:\n",
    "                break\n",
    "        except ValueError:\n",
    "            print(f\"Has introducido {peso}.Por favor, introduce tu peso correcto con valor numérico y en kilos con punto (.) o coma (,) para los decimales\")\n",
    "\n",
    "    \n",
    "    while True:\n",
    "        altura = input(\"Introduce tu altura en metros:\")\n",
    "        try:\n",
    "            altura = float(altura.replace(\",\", \".\"))\n",
    "\n",
    "            if altura <= 0 or altura >= 3:\n",
    "                print(f\"Has introducido {altura}. Introduce tu altura correcta, mayor de 0 y menor de 3 m\")\n",
    "            else:\n",
    "                break\n",
    "        except ValueError:\n",
    "            print(f\"Has introducido {peso}. Introduce tu altura correcta, con valor numérico y en metros, con punto (.) o coma (,) para los decimales\")\n",
    "    \n",
    "    print(f\"Los datos que has introducido son: \\n\"\n",
    "          f\"Peso: {peso} kg\\n\"\n",
    "          f\"Altura: {altura} m\\n\")\n",
    "    \n",
    "    return peso, altura\n",
    "\n",
    "\n",
    "def calcular_IMC():\n",
    "\n",
    "    # calcular el IMC e indicar la categoría correspondiente\n",
    "\n",
    "    peso, altura = solicitar_datos()    # llamar la función anterior para poder usar las variables peso, altura    \n",
    "\n",
    "    # Para calcular el IMC es necesario dividir el peso en kg de un paciente entre el cuadrado de su altura en metros.\n",
    "    \n",
    "    IMC = round(peso / (altura ** 2), 2)\n",
    "     \n",
    "    \"\"\"   \n",
    "    La clasificación del IMC es:\n",
    "\n",
    "    Bajo peso: menos de 18,5.\n",
    "    Peso normal: 18,5-24,9.\n",
    "    Sobrepeso: 25-29,9.\n",
    "    Obesidad: más de 30.\n",
    "    \"\"\"\n",
    "    if IMC < 18.5:\n",
    "        resultado = \"bajo peso\"\n",
    "    elif IMC <= 24.99:\n",
    "        resultado = \"peso normal\"\n",
    "    elif IMC <= 29.99:\n",
    "        resultado = \"sobrepeso\"\n",
    "    else:\n",
    "        resultado = \"obesidad\"\n",
    "\n",
    "    dicc_IMC_resultado = {\"IMC\": IMC, \"Categoría\": {resultado}}\n",
    "    print(\"Tu IMC y la correspondiente clasificación son los siguientes:\")\n",
    "    return dicc_IMC_resultado\n",
    "\n",
    "calcular_IMC()"
   ]
  },
  {
   "cell_type": "code",
   "execution_count": 12,
   "id": "91849b04",
   "metadata": {},
   "outputs": [
    {
     "name": "stdout",
     "output_type": "stream",
     "text": [
      "--- Testear con valores de input incorrectos ---\n",
      "Has introducido 67 k 1.Por favor, introduce tu peso correcto con valor numérico y en kilos con punto (.) o coma (,) para los decimales\n",
      "Has introducido 4.2. Introduce tu altura correcta, mayor de 0 y menor de 3 m\n",
      "Los datos que has introducido son: \n",
      "Peso: 67.1 kg\n",
      "Altura: 1.65 m\n",
      "\n",
      "Tu IMC y la correspondiente clasificación son los siguientes:\n"
     ]
    },
    {
     "data": {
      "text/plain": [
       "{'IMC': 24.65, 'Categoría': {'peso normal'}}"
      ]
     },
     "execution_count": 12,
     "metadata": {},
     "output_type": "execute_result"
    }
   ],
   "source": [
    "print(\"--- Testear con valores de input incorrectos ---\")\n",
    "calcular_IMC()"
   ]
  },
  {
   "cell_type": "markdown",
   "id": "553df0a0",
   "metadata": {},
   "source": [
    "### 2. Convertidor de temperatures  \n",
    "Existeixen diverses unitats de temperatura utilitzades en diferents contextos i regions. Les més comunes són Celsius (°C), Fahrenheit (°F) i Kelvin (K). \n",
    "També existeixen altres unitats com Rankine (°Ra) i Réaumur (°Re).\n",
    "Selecciona almenys 2 conversors, de tal manera que en introduir una temperatura retorni, com a mínim, dues conversions, de manera que es puguin guardar (recorda que un print() no es pot guardar mai).\n",
    "Consell: Intenta validar les dades prèviament, perquè enviï un missatge d’advertència si les dades introduides per l’usuari/a no estan en el format adequat.\n",
    "(EXTRA): Pensa una manera d’emmagatzemar totes les possibles conversions en un sol objecte (Llista? Diccionari? DataFrame?) en comptes d’escriure molts if else en funció de la temperatura d’origen i la temperatura de destí."
   ]
  },
  {
   "cell_type": "code",
   "execution_count": 14,
   "id": "7060a21a",
   "metadata": {},
   "outputs": [],
   "source": [
    "def pedir_temperatura():\n",
    "\n",
    "    # solicitar los datos \n",
    "\n",
    "    while True:                                         #validar que los valores introducidos sean correctos e indicando condiciones como máximo y mínimo de valor\n",
    "        temperatura = input(\"Introduce el valor de la temperatura:\")    \n",
    "        try:\n",
    "            temperatura = float(temperatura.replace(\",\", \".\"))        #cambiar el input a numero decimal y reemplaza los comas por puntos\n",
    "            break\n",
    "        except ValueError:\n",
    "            print(f\"Has introducido {temperatura}.Por favor, introduce la temperatura con valor numérico y con punto (.) o coma (,) para los decimales\\n\")\n",
    "\n",
    "    \n",
    "    while True:\n",
    "        unidad = input(\"Introduce C for Celsius, F for Fahrenheit o K for Kelvin:\")\n",
    "        unidad  = (unidad.replace(\".\", \"\")).upper()\n",
    "        if unidad in [\"C\", \"F\", \"K\"]:\n",
    "            break\n",
    "        else:\n",
    "            print(f\"Has introducido {unidad}. Introduce C, F o K solo, sin más simbolos\\n\")\n",
    "    \n",
    "    print(f\"Los datos que has introducido son: \\n\"\n",
    "          f\"Temperatura: {temperatura} {unidad}\")\n",
    "          \n",
    "    \n",
    "    return temperatura, unidad\n",
    "\n",
    "def conversion_temperatura():\n",
    "\n",
    "    temperatura, unidad = pedir_temperatura()\n",
    "\n",
    "    if unidad == \"C\":\n",
    "        C = temperatura\n",
    "        F = (temperatura * 1.8) + 32\n",
    "        K = temperatura + 273.15\n",
    "    elif unidad == \"F\":\n",
    "        C = (temperatura - 32) / 1.8\n",
    "        F = temperatura\n",
    "        K = (temperatura + 459.67) / 1.8\n",
    "    elif unidad == \"K\":\n",
    "        C = temperatura - 273.15\n",
    "        F = temperatura * 1.8 - 459.67\n",
    "        K = temperatura\n",
    "\n",
    "    dicc_temperaturas = {\"Celcius\" : C, \"Fahreneit\" : F, \"Kelvin\" : K}\n",
    "    print(\"A continuación puedes ver la temperatura en las diferentes unidades\")\n",
    "    return dicc_temperaturas\n",
    "\n"
   ]
  },
  {
   "cell_type": "code",
   "execution_count": 16,
   "id": "982b80e6",
   "metadata": {},
   "outputs": [
    {
     "name": "stdout",
     "output_type": "stream",
     "text": [
      "Los datos que has introducido son: \n",
      "Temperatura: 36.0 C\n",
      "A continuación puedes ver la temperatura en las diferentes unidades\n"
     ]
    },
    {
     "data": {
      "text/plain": [
       "{'Celcius': 36.0, 'Fahreneit': 96.8, 'Kelvin': 309.15}"
      ]
     },
     "execution_count": 16,
     "metadata": {},
     "output_type": "execute_result"
    }
   ],
   "source": [
    "conversion_temperatura()"
   ]
  },
  {
   "cell_type": "code",
   "execution_count": 17,
   "id": "596fd48b",
   "metadata": {},
   "outputs": [
    {
     "name": "stdout",
     "output_type": "stream",
     "text": [
      "--- Testear con valores de input incorrectos ---\n",
      "Has introducido 36cfk.Por favor, introduce la temperatura con valor numérico y con punto (.) o coma (,) para los decimales\n",
      "\n",
      "Has introducido R. Introduce C, F o K solo, sin más simbolos\n",
      "\n",
      "Los datos que has introducido son: \n",
      "Temperatura: 36.0 C\n",
      "A continuación puedes ver la temperatura en las diferentes unidades\n"
     ]
    },
    {
     "data": {
      "text/plain": [
       "{'Celcius': 36.0, 'Fahreneit': 96.8, 'Kelvin': 309.15}"
      ]
     },
     "execution_count": 17,
     "metadata": {},
     "output_type": "execute_result"
    }
   ],
   "source": [
    "print(\"--- Testear con valores de input incorrectos ---\")\n",
    "conversion_temperatura()"
   ]
  },
  {
   "cell_type": "markdown",
   "id": "4909d9be",
   "metadata": {},
   "source": [
    "### 3. Comptador de paraules d'un text.\n",
    "Escriu una funció que donat un text, mostri les vegades que apareix cada paraula. Intenta que es gestionin totes les casuístiques possibles que facin\n",
    "que el programa no funcioni correctament.\n",
    "(EXTRA): Quina és la llargada mitjana de les paraules del text que has escrit? “Hola com va?” hauria de retornar (4+3+2) / 3 = 3"
   ]
  },
  {
   "cell_type": "code",
   "execution_count": null,
   "id": "b9d248bf",
   "metadata": {},
   "outputs": [
    {
     "name": "stdout",
     "output_type": "stream",
     "text": [
      "Tu texto es: peix, peixet de la canya, de la canya peix, peixet de la canya al sarronet...\n",
      "Tu texto procesado sin puntuación es: peix peixet de la canya de la canya peix peixet de la canya al sarronet\n",
      "La cantidad de cada palabra es: {'peix': 2, 'peixet': 2, 'de': 3, 'la': 3, 'canya': 3, 'al': 1, 'sarronet': 1}.\n",
      "La longitud media de las palabras es: 3.8 palabras.\n"
     ]
    }
   ],
   "source": [
    "\"\"\"\n",
    "Peix, peixet\n",
    "de la canya, de la canya\n",
    "Peix, peixet\n",
    "de la canya al sarronet...\n",
    "\"\"\"\n",
    "\n",
    "\n",
    "import string\n",
    "\n",
    "def solicitar_texto():\n",
    "    # crear una función para pedir input y eliminar los signos de puntuación del texto\n",
    "\n",
    "    texto = input(\"Por favor, introduce un texto: \").lower()             # todas las letras del string serán minusculas\n",
    "    print(f\"Tu texto es: {texto}\")\n",
    "\n",
    "\n",
    "    traductor = str.maketrans(\"\", \"\", string.punctuation)               # eliminar los signos de puntuación del texto\n",
    "    texto_solo = texto.translate(traductor)                             # aplica el metodo anterior para obtener el texto limpio\n",
    "    \n",
    "    print(f\"Tu texto procesado sin puntuación es: {texto_solo}\")\n",
    "\n",
    "    return texto_solo\n",
    "\n",
    "def contador_palabras(): \n",
    "    #crear la función que realizará el conteo de las palabras y el cálculo de la media de caracteres         \n",
    "    \n",
    "    dicc_palabras = {}                           #crear un diccionario vacío para añadir las palabras del texto y la cantidad de cada una \n",
    "    texto_limpio = solicitar_texto()\n",
    "    palabras_texto = texto_limpio.split()           #separar el texto por palabras por espacios en blanco\n",
    "\n",
    "    for palabra in palabras_texto:\n",
    "        if palabra in dicc_palabras:\n",
    "            dicc_palabras[palabra] += 1\n",
    "        else:\n",
    "            dicc_palabras[palabra] = 1\n",
    "    print(f\"La cantidad de cada palabra es: {dicc_palabras}.\")\n",
    "\n",
    "    total_palabras = len(palabras_texto)\n",
    "    total_letras = sum(len(palabra) for palabra in palabras_texto)\n",
    "    calculo_media = total_letras / total_palabras\n",
    "\n",
    "    print(f\"La longitud media de las palabras es: {calculo_media} palabras.\")\n",
    "\n",
    "    return dicc_palabras\n",
    "\n",
    "palabras = contador_palabras()\n"
   ]
  },
  {
   "cell_type": "markdown",
   "id": "70b72345",
   "metadata": {},
   "source": [
    "### 4. Diccionari invers (amb possibilitat de duplicats)  \n",
    "Resulta que el client té una enquesta molt antiga que s'emmagatzema en un diccionari i els resultats els necessita al revés, és\n",
    "a dir, intercanviant les claus i els valors. Els valors i claus en el diccionari original són únics; si aquest no és el cas, la funció\n",
    "hauria d'imprimir un missatge d'advertiment, juntament amb una llista amb els valors associats a la clau repetida."
   ]
  },
  {
   "cell_type": "code",
   "execution_count": 18,
   "id": "aa393c6f",
   "metadata": {},
   "outputs": [
    {
     "name": "stdout",
     "output_type": "stream",
     "text": [
      "--- Testear con valores duplicados ---\n",
      "El diccionario original es:\n",
      " {'a': 'apple', 'b': 'banana', 'c': 'carrot', 'd': 'banana', 'e': 'apple', 'f': 'egg', 'g': 'bread', 'h': 'melon'}\n",
      "El valor: apple tiene asociadas varias claves: ['a', 'e']\n",
      "El valor: banana tiene asociadas varias claves: ['b', 'd']\n",
      "El diccionario invertido es:\n",
      " {'apple': ['a', 'e'], 'banana': ['b', 'd'], 'carrot': ['c'], 'egg': ['f'], 'bread': ['g'], 'melon': ['h']}\n",
      "\n",
      "--- Testear con valores únicos ---\n",
      "El diccionario original es:\n",
      " {'a': 1, 'b': 2, 'c': 3, 'd': 4, 'e': 5, 'f': 6, 'g': 7, 'j': 8}\n",
      "El diccionario invertido es:\n",
      " {1: ['a'], 2: ['b'], 3: ['c'], 4: ['d'], 5: ['e'], 6: ['f'], 7: ['g'], 8: ['j']}\n"
     ]
    }
   ],
   "source": [
    "def invertir_dicc(midicc):\n",
    "  #crear la función para invertir el diccionario y revisar si hay valores duplicados\n",
    "\n",
    "  dicc_inverso = {}\n",
    "\n",
    "  for clave, valor in midicc.items():\n",
    "    if valor in dicc_inverso:\n",
    "      dicc_inverso[valor].append(clave)\n",
    "    else:\n",
    "      dicc_inverso[valor] = [clave]\n",
    "\n",
    "  for key, value in dicc_inverso.items():             # revisar si existen values duplicados para mostrar mensaje de advertencia\n",
    "    if len(value) > 1:\n",
    "      print(f\"El valor: {key} tiene asociadas varias claves: {value}\") \n",
    "      \n",
    "  return dicc_inverso\n",
    "\n",
    "print(\"--- Testear con valores duplicados ---\")\n",
    "midicc = {\"a\":\"apple\", \"b\":\"banana\", \"c\":\"carrot\", \"d\":\"banana\", \"e\":\"apple\", \"f\":\"egg\", \"g\":\"bread\", \"h\":\"melon\"}\n",
    "print(\"El diccionario original es:\\n\", midicc)\n",
    "print(\"El diccionario invertido es:\\n\", invertir_dicc(midicc))\n",
    "\n",
    "\n",
    "print(\"\\n--- Testear con valores únicos ---\")\n",
    "midicc_no_duplicates = {\"a\":1, \"b\":2, \"c\":3, \"d\":4, \"e\":5, \"f\":6, \"g\":7, \"j\":8}\n",
    "print(\"El diccionario original es:\\n\", midicc_no_duplicates)\n",
    "print(\"El diccionario invertido es:\\n\", invertir_dicc(midicc_no_duplicates))"
   ]
  },
  {
   "cell_type": "markdown",
   "id": "99018f14",
   "metadata": {},
   "source": [
    "## Nivell 2"
   ]
  },
  {
   "cell_type": "markdown",
   "id": "0a8e59c5",
   "metadata": {},
   "source": [
    "### 1. Contador y organizador de palabras  \n",
    "El client va quedar content amb el comptador de paraules, però ara vol llegir arxius TXT i que calculi la freqüència de cada paraula ordenades dins de les entrades habituals del diccionari segons la lletra amb la qual comencen, és a dir, les claus han d'anar de la A a la Z i dins de la A hem d'anar de la A la Z.\n",
    "|"
   ]
  },
  {
   "cell_type": "code",
   "execution_count": null,
   "id": "ef7279a3",
   "metadata": {},
   "outputs": [
    {
     "data": {
      "text/plain": [
       "{'a': {'a': 3,\n",
       "  'agua': 1,\n",
       "  'al': 2,\n",
       "  'alba': 4,\n",
       "  'alcobas': 1,\n",
       "  'alimenta': 1,\n",
       "  'alma': 1,\n",
       "  'amarga': 1,\n",
       "  'azucena': 1},\n",
       " 'b': {'baco': 1,\n",
       "  'banquete': 1,\n",
       "  'bebe': 1,\n",
       "  'blanca': 3,\n",
       "  'boca': 1,\n",
       "  'bosques': 1,\n",
       "  'buen': 1},\n",
       " 'c': {'cabañas': 1,\n",
       "  'carnes': 2,\n",
       "  'casta': 3,\n",
       "  'cerrada': 1,\n",
       "  'con': 4,\n",
       "  'conservas': 1,\n",
       "  'copas': 1,\n",
       "  'corola': 1,\n",
       "  'corriste': 1,\n",
       "  'cuando': 2,\n",
       "  'cubierto': 1,\n",
       "  'cuerpo': 1,\n",
       "  'cuáles': 1},\n",
       " 'd': {'de': 8, 'dejaste': 1, 'del': 1, 'diga': 1, 'dios': 2, 'duerme': 1},\n",
       " 'e': {'el': 4,\n",
       "  'ellas': 1,\n",
       "  'en': 4,\n",
       "  'engaño': 1,\n",
       "  'enredada': 1,\n",
       "  'entonces': 1,\n",
       "  'escarcha': 1,\n",
       "  'espumas': 1,\n",
       "  'esqueleto': 1,\n",
       "  'estrago': 1},\n",
       " 'f': {'festejando': 1, 'filtrado': 1, 'frutos': 1},\n",
       " 'h': {'habla': 1,\n",
       "  'hacia': 1,\n",
       "  'haya': 1,\n",
       "  'hayas': 1,\n",
       "  'hermana': 1,\n",
       "  'hombre': 1,\n",
       "  'hubiste': 1,\n",
       "  'huye': 1},\n",
       " 'i': {'intacto': 1},\n",
       " 'j': {'jardines': 1},\n",
       " 'l': {'la': 3,\n",
       "  'labios': 1,\n",
       "  'las': 7,\n",
       "  'lo': 2,\n",
       "  'los': 4,\n",
       "  'luna': 1,\n",
       "  'lévate': 1,\n",
       "  'límpiate': 1},\n",
       " 'm': {'mano': 1,\n",
       "  'manos': 1,\n",
       "  'margarita': 1,\n",
       "  'me': 10,\n",
       "  'mi': 1,\n",
       "  'mieles': 1,\n",
       "  'milagros': 1,\n",
       "  'mojada': 1,\n",
       "  'montaña': 1,\n",
       "  'morados': 1},\n",
       " 'n': {'negros': 1, 'ni': 2, 'no': 1, 'nácar': 1, 'nívea': 2},\n",
       " 'p': {'perdone': 2,\n",
       "  'perfume': 1,\n",
       "  'por': 2,\n",
       "  'pretendes': 3,\n",
       "  'preténdeme': 3,\n",
       "  'puesto': 1,\n",
       "  'pájaros': 1,\n",
       "  'pámpanos': 1},\n",
       " 'q': {'que': 6, 'quedó': 1, 'quieres': 6},\n",
       " 'r': {'rayo': 1, 'raíz': 1, 'renueva': 1, 'rocas': 1, 'rojo': 1},\n",
       " 's': {'salitre': 1, 'se': 2, 'sea': 1, 'sean': 1, 'sobre': 2, 'sé': 1},\n",
       " 't': {'te': 3,\n",
       "  'tejidos': 1,\n",
       "  'tenue': 1,\n",
       "  'tierra': 1,\n",
       "  'toca': 1,\n",
       "  'todas': 2,\n",
       "  'todavía': 1,\n",
       "  'tornadas': 1,\n",
       "  'tú': 8},\n",
       " 'u': {'un': 1, 'una': 1},\n",
       " 'v': {'vestido': 1, 'vete': 1, 'vive': 1},\n",
       " 'y': {'y': 5}}"
      ]
     },
     "execution_count": 17,
     "metadata": {},
     "output_type": "execute_result"
    }
   ],
   "source": [
    "from collections import defaultdict\n",
    "import string\n",
    "\n",
    "def contador_palabras_txt():\n",
    "    #crear la función que realizará el conteo de las palabras y el cálculo de la media de caracteres\n",
    "\n",
    "    with open(ruta, encoding='utf-8') as file:\n",
    "        txt = file.read().lower()                                      #leer el archivo y pasar el texto en minuscula\n",
    "\n",
    "    traductor = str.maketrans(\"\", \"\", string.punctuation + \"¿¡\")        #eliminar los signos de puntuación del texto\n",
    "    txt = txt.translate(traductor)    \n",
    "                                \n",
    "    \n",
    "    \n",
    "    contar_palabras = {}                           #crear un diccionario vacío para añadir las palabras del texto y la cantidad de cada una \n",
    "    txt_palabras = txt.split()                     #separar el texto por palabras por espacios en blanco como separador\n",
    "\n",
    "    for palabra in txt_palabras:\n",
    "        if palabra in contar_palabras:\n",
    "            contar_palabras[palabra] += 1\n",
    "        else:\n",
    "            contar_palabras[palabra] = 1\n",
    "\n",
    "    ordenado_txt = {key:value for key, value in sorted(contar_palabras.items())} #ordenar por orden alfabético del key\n",
    "        \n",
    "    grupo_letra = defaultdict(dict)              #crear grupo por letra inicial y subdictionario con las palabras y su conteo\n",
    "\n",
    "    for key, value in ordenado_txt.items():\n",
    "        primera_letra = key[0]\n",
    "        grupo_letra[primera_letra][key] = value\n",
    "\n",
    "    txt_ordenado_final = {key: dict(sorted(value.items())) for key, value in sorted(grupo_letra.items())}  #ordenar el dict final por letra inicial y por key\n",
    "    return txt_ordenado_final\n",
    "\n",
    "ruta = r\"C:\\Users\\tinke\\Desktop\\python\\nuevo 25-26\\tu_me_quieres_blanca.txt\"\n",
    "contador_palabras_txt()\n",
    "\n"
   ]
  },
  {
   "cell_type": "markdown",
   "id": "919f0bea",
   "metadata": {},
   "source": [
    "### 2. Separar lista por tipo  \n",
    "El client rep una llista de dades i necessita generar dues llistes, la primera on estaran tots els elements que es van poder\n",
    "convertir en flotants i l'altra on estan els elements que no es van poder convertir. "
   ]
  },
  {
   "cell_type": "code",
   "execution_count": 9,
   "id": "232c9cf0",
   "metadata": {},
   "outputs": [
    {
     "name": "stdout",
     "output_type": "stream",
     "text": [
      "La lista del cliente es: ['1.3', 'one', '1e10', 'seven', '3-1/2', ('2', 1, 1.4, 'not-a-number'), [1, 2, '3', '3.4']]\n",
      "Los elementos que se pueden convertir en flotantes son: [1.3, 10000000000.0, 2.0, 1.0, 1.4, 1.0, 2.0, 3.0, 3.4]\n",
      "Los elementos que no se pueden convertir en flotantes: ['one', 'seven', '3-1/2', 'not-a-number']\n"
     ]
    }
   ],
   "source": [
    "def separar_tipo(lista):\n",
    "    # crear la función que revise el tipo de cada elemento de una lista y los separe según la posibilidad de conversión a float o no\n",
    "\n",
    "    lista_flotantes = []\n",
    "    lista_no_flotantes = []\n",
    "\n",
    "    for item in lista:\n",
    "        if isinstance(item, (int, float)):              #si el elemento es int o float se añade directamente a la lista de flotantes\n",
    "            lista_flotantes.append(float(item))\n",
    "        elif isinstance(item, str):                     #si el elemento es str se intenta cambiar a float y se añade a la lista correspondiente\n",
    "            try:\n",
    "                lista_flotantes.append(float(item))\n",
    "            except ValueError:\n",
    "                lista_no_flotantes.append(item)\n",
    "        elif isinstance(item, (tuple, list)):           #si el elemento en lista, tupla, manejar estos elementos anidados de forma recursiva\n",
    "            flotantes, no_flotantes = separar_tipo(item)\n",
    "            lista_flotantes.extend(flotantes)\n",
    "            lista_no_flotantes.extend(no_flotantes)\n",
    "        else:\n",
    "            lista_no_flotantes.append(item)\n",
    "\n",
    "    return lista_flotantes, lista_no_flotantes\n",
    "\n",
    "\n",
    "lista_cliente = ['1.3', 'one', '1e10', 'seven', '3-1/2', ('2', 1, 1.4, 'not-a-number'), [1, 2, '3', '3.4']]\n",
    "flotantes, no_flotantes = separar_tipo(lista_cliente)\n",
    "\n",
    "print(f\"La lista del cliente es: {lista_cliente}\")\n",
    "print(f\"Los elementos que se pueden convertir en flotantes son: {flotantes}\")\n",
    "print(f\"Los elementos que no se pueden convertir en flotantes: {no_flotantes}\")\n",
    "\n"
   ]
  },
  {
   "cell_type": "markdown",
   "id": "39133089",
   "metadata": {},
   "source": [
    "## Nivell 3"
   ]
  },
  {
   "cell_type": "markdown",
   "id": "7ba78f3a",
   "metadata": {},
   "source": [
    "### 1. Generador de contraseñas\n",
    "Explora el funcionament del mòdul random de la llibreria numpy. \n",
    "\n",
    "En aquest punt, el client ha detectat un problema amb les contrasenyes que utilitzen els seus treballadors. Asdf1234, dates\n",
    "d’aniversari o similars. Per a solucionar-ho ens ha encarregat una funció de Python que generi contrasenyes més segures. La\n",
    "funció ha de dependre dels següents paràmetres:\n",
    "- longitud (int): Longitud de la contrasenya\n",
    "- majuscules (bool = True): Si hi ha d’aparèixer majúscules\n",
    "- minuscules (bool = True): Si hi ha d’aparèixer minúscules\n",
    "- numeros (bool = True): Si hi ha d’aparèixer números\n",
    "- signes (bool = False): Si hi ha d’aparèixer caràcters especials | (,-$? o similars)\n",
    "\n",
    "Així doncs, si executem la funció de la següent manera: crear_contrasenya(10, True, True, True, True)\n",
    "Hauríem d’obtenir un output (que hem de poder guardar) de l’estil: 9Er,5Vn8P$\n",
    "Assegura’t que es compleixin tots els criteris, i que aquestes contrasenyes siguin realment aleatòries.\n",
    "(EXTRA) Explora com podríem fer que la funció copiés la contrasenya automàticament al porta papers de l’ordinador (com si\n",
    "l’haguéssim seleccionat i fet ctrl+copy)."
   ]
  },
  {
   "cell_type": "code",
   "execution_count": 19,
   "id": "6ee5b1fa",
   "metadata": {},
   "outputs": [],
   "source": [
    "import string\n",
    "import numpy as np\n",
    "from numpy import random\n",
    "import pyperclip\n",
    "\n",
    "def crear_contrasenya(longitud = 10, mayusculas=True, minusculas=True, numeros=True, signos=True):\n",
    "    caracteres = \"\"\n",
    "    caract_obligatorios = []\n",
    "\n",
    "    if mayusculas:\n",
    "        caracteres += string.ascii_uppercase\n",
    "        caract_obligatorios.append(np.random.choice(list(string.ascii_uppercase)))\n",
    "    if minusculas:\n",
    "        caracteres += string.ascii_lowercase\n",
    "        caract_obligatorios.append(np.random.choice(list(string.ascii_lowercase)))\n",
    "    if numeros:\n",
    "        caracteres += string.digits\n",
    "        caract_obligatorios.append(np.random.choice(list(string.digits)))\n",
    "    if signos:\n",
    "        caracteres += string.punctuation\n",
    "        caract_obligatorios.append(np.random.choice(list(string.punctuation)))\n",
    "\n",
    "    if caracteres == \"\":\n",
    "        return \"Error: selecciona al menos un tipo de carácter.\"\n",
    "\n",
    "    while len(caract_obligatorios) < longitud:                      # añadir el resto de caracteres de la contraseña hasta llegar a la longitud definida\n",
    "        caract_obligatorios.append(np.random.choice(list(caracteres)))\n",
    "\n",
    "\n",
    "    np.random.shuffle(caract_obligatorios)                          #mezclar el orden de los caracteres \n",
    "\n",
    "    contrasenya = \"\".join(caract_obligatorios)                      #crear un string con los caracteres y sin espacios               \n",
    "\n",
    "    print(f\"Tu contraseña es : {contrasenya}\")\n",
    "\n",
    "    pyperclip.copy(contrasenya)                                     #copiar la contraseña en portapapeles del ordenador\n",
    "    print(\"La contraseña se ha copiado en el portapapeles\")\n",
    "\n",
    "    return contrasenya"
   ]
  },
  {
   "cell_type": "code",
   "execution_count": 20,
   "id": "80813d55",
   "metadata": {},
   "outputs": [
    {
     "name": "stdout",
     "output_type": "stream",
     "text": [
      "Tu contraseña es : ~v=\\2G9*aS\n",
      "La contraseña se ha copiado en el portapapeles\n"
     ]
    }
   ],
   "source": [
    "contraseña_creada = crear_contrasenya(10, True, True, True, True)"
   ]
  }
 ],
 "metadata": {
  "kernelspec": {
   "display_name": "Python 3",
   "language": "python",
   "name": "python3"
  },
  "language_info": {
   "codemirror_mode": {
    "name": "ipython",
    "version": 3
   },
   "file_extension": ".py",
   "mimetype": "text/x-python",
   "name": "python",
   "nbconvert_exporter": "python",
   "pygments_lexer": "ipython3",
   "version": "3.13.3"
  }
 },
 "nbformat": 4,
 "nbformat_minor": 5
}
